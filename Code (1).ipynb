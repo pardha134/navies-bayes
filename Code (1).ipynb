{
 "cells": [
  {
   "cell_type": "markdown",
   "metadata": {},
   "source": [
    "# TRAINING PROJECT : CREDIT CARD FRAUD DETECTION\n"
   ]
  },
  {
   "cell_type": "markdown",
   "metadata": {},
   "source": [
    "### Importing The Libraries"
   ]
  },
  {
   "cell_type": "code",
   "execution_count": 387,
   "metadata": {},
   "outputs": [],
   "source": [
    "import numpy as np\n",
    "import pandas as pd\n",
    "import matplotlib.pyplot as plt\n",
    "import seaborn as sns\n",
    "from sklearn.preprocessing import StandardScaler\n",
    "from sklearn.ensemble import RandomForestClassifier\n",
    "from sklearn.tree import DecisionTreeClassifier\n",
    "from sklearn.neighbors import KNeighborsClassifier\n",
    "from sklearn.naive_bayes import GaussianNB\n",
    "from sklearn.linear_model import LogisticRegression\n",
    "from sklearn.svm import SVC\n",
    "from sklearn.model_selection import train_test_split\n",
    "from sklearn.metrics import confusion_matrix,accuracy_score"
   ]
  },
  {
   "cell_type": "markdown",
   "metadata": {},
   "source": [
    "### Getting The Dataset"
   ]
  },
  {
   "cell_type": "code",
   "execution_count": 388,
   "metadata": {},
   "outputs": [
    {
     "name": "stdout",
     "output_type": "stream",
     "text": [
      "This data frame has 284807 rows and 31 columns.\n"
     ]
    },
    {
     "data": {
      "text/html": [
       "<div>\n",
       "<style scoped>\n",
       "    .dataframe tbody tr th:only-of-type {\n",
       "        vertical-align: middle;\n",
       "    }\n",
       "\n",
       "    .dataframe tbody tr th {\n",
       "        vertical-align: top;\n",
       "    }\n",
       "\n",
       "    .dataframe thead th {\n",
       "        text-align: right;\n",
       "    }\n",
       "</style>\n",
       "<table border=\"1\" class=\"dataframe\">\n",
       "  <thead>\n",
       "    <tr style=\"text-align: right;\">\n",
       "      <th></th>\n",
       "      <th>Time</th>\n",
       "      <th>V1</th>\n",
       "      <th>V2</th>\n",
       "      <th>V3</th>\n",
       "      <th>V4</th>\n",
       "      <th>V5</th>\n",
       "      <th>V6</th>\n",
       "      <th>V7</th>\n",
       "      <th>V8</th>\n",
       "      <th>V9</th>\n",
       "      <th>...</th>\n",
       "      <th>V21</th>\n",
       "      <th>V22</th>\n",
       "      <th>V23</th>\n",
       "      <th>V24</th>\n",
       "      <th>V25</th>\n",
       "      <th>V26</th>\n",
       "      <th>V27</th>\n",
       "      <th>V28</th>\n",
       "      <th>Amount</th>\n",
       "      <th>Class</th>\n",
       "    </tr>\n",
       "  </thead>\n",
       "  <tbody>\n",
       "    <tr>\n",
       "      <th>0</th>\n",
       "      <td>0.0</td>\n",
       "      <td>-1.359807</td>\n",
       "      <td>-0.072781</td>\n",
       "      <td>2.536347</td>\n",
       "      <td>1.378155</td>\n",
       "      <td>-0.338321</td>\n",
       "      <td>0.462388</td>\n",
       "      <td>0.239599</td>\n",
       "      <td>0.098698</td>\n",
       "      <td>0.363787</td>\n",
       "      <td>...</td>\n",
       "      <td>-0.018307</td>\n",
       "      <td>0.277838</td>\n",
       "      <td>-0.110474</td>\n",
       "      <td>0.066928</td>\n",
       "      <td>0.128539</td>\n",
       "      <td>-0.189115</td>\n",
       "      <td>0.133558</td>\n",
       "      <td>-0.021053</td>\n",
       "      <td>149.62</td>\n",
       "      <td>0</td>\n",
       "    </tr>\n",
       "    <tr>\n",
       "      <th>1</th>\n",
       "      <td>0.0</td>\n",
       "      <td>1.191857</td>\n",
       "      <td>0.266151</td>\n",
       "      <td>0.166480</td>\n",
       "      <td>0.448154</td>\n",
       "      <td>0.060018</td>\n",
       "      <td>-0.082361</td>\n",
       "      <td>-0.078803</td>\n",
       "      <td>0.085102</td>\n",
       "      <td>-0.255425</td>\n",
       "      <td>...</td>\n",
       "      <td>-0.225775</td>\n",
       "      <td>-0.638672</td>\n",
       "      <td>0.101288</td>\n",
       "      <td>-0.339846</td>\n",
       "      <td>0.167170</td>\n",
       "      <td>0.125895</td>\n",
       "      <td>-0.008983</td>\n",
       "      <td>0.014724</td>\n",
       "      <td>2.69</td>\n",
       "      <td>0</td>\n",
       "    </tr>\n",
       "    <tr>\n",
       "      <th>2</th>\n",
       "      <td>1.0</td>\n",
       "      <td>-1.358354</td>\n",
       "      <td>-1.340163</td>\n",
       "      <td>1.773209</td>\n",
       "      <td>0.379780</td>\n",
       "      <td>-0.503198</td>\n",
       "      <td>1.800499</td>\n",
       "      <td>0.791461</td>\n",
       "      <td>0.247676</td>\n",
       "      <td>-1.514654</td>\n",
       "      <td>...</td>\n",
       "      <td>0.247998</td>\n",
       "      <td>0.771679</td>\n",
       "      <td>0.909412</td>\n",
       "      <td>-0.689281</td>\n",
       "      <td>-0.327642</td>\n",
       "      <td>-0.139097</td>\n",
       "      <td>-0.055353</td>\n",
       "      <td>-0.059752</td>\n",
       "      <td>378.66</td>\n",
       "      <td>0</td>\n",
       "    </tr>\n",
       "    <tr>\n",
       "      <th>3</th>\n",
       "      <td>1.0</td>\n",
       "      <td>-0.966272</td>\n",
       "      <td>-0.185226</td>\n",
       "      <td>1.792993</td>\n",
       "      <td>-0.863291</td>\n",
       "      <td>-0.010309</td>\n",
       "      <td>1.247203</td>\n",
       "      <td>0.237609</td>\n",
       "      <td>0.377436</td>\n",
       "      <td>-1.387024</td>\n",
       "      <td>...</td>\n",
       "      <td>-0.108300</td>\n",
       "      <td>0.005274</td>\n",
       "      <td>-0.190321</td>\n",
       "      <td>-1.175575</td>\n",
       "      <td>0.647376</td>\n",
       "      <td>-0.221929</td>\n",
       "      <td>0.062723</td>\n",
       "      <td>0.061458</td>\n",
       "      <td>123.50</td>\n",
       "      <td>0</td>\n",
       "    </tr>\n",
       "    <tr>\n",
       "      <th>4</th>\n",
       "      <td>2.0</td>\n",
       "      <td>-1.158233</td>\n",
       "      <td>0.877737</td>\n",
       "      <td>1.548718</td>\n",
       "      <td>0.403034</td>\n",
       "      <td>-0.407193</td>\n",
       "      <td>0.095921</td>\n",
       "      <td>0.592941</td>\n",
       "      <td>-0.270533</td>\n",
       "      <td>0.817739</td>\n",
       "      <td>...</td>\n",
       "      <td>-0.009431</td>\n",
       "      <td>0.798278</td>\n",
       "      <td>-0.137458</td>\n",
       "      <td>0.141267</td>\n",
       "      <td>-0.206010</td>\n",
       "      <td>0.502292</td>\n",
       "      <td>0.219422</td>\n",
       "      <td>0.215153</td>\n",
       "      <td>69.99</td>\n",
       "      <td>0</td>\n",
       "    </tr>\n",
       "  </tbody>\n",
       "</table>\n",
       "<p>5 rows × 31 columns</p>\n",
       "</div>"
      ],
      "text/plain": [
       "   Time        V1        V2        V3        V4        V5        V6        V7  \\\n",
       "0   0.0 -1.359807 -0.072781  2.536347  1.378155 -0.338321  0.462388  0.239599   \n",
       "1   0.0  1.191857  0.266151  0.166480  0.448154  0.060018 -0.082361 -0.078803   \n",
       "2   1.0 -1.358354 -1.340163  1.773209  0.379780 -0.503198  1.800499  0.791461   \n",
       "3   1.0 -0.966272 -0.185226  1.792993 -0.863291 -0.010309  1.247203  0.237609   \n",
       "4   2.0 -1.158233  0.877737  1.548718  0.403034 -0.407193  0.095921  0.592941   \n",
       "\n",
       "         V8        V9  ...       V21       V22       V23       V24       V25  \\\n",
       "0  0.098698  0.363787  ... -0.018307  0.277838 -0.110474  0.066928  0.128539   \n",
       "1  0.085102 -0.255425  ... -0.225775 -0.638672  0.101288 -0.339846  0.167170   \n",
       "2  0.247676 -1.514654  ...  0.247998  0.771679  0.909412 -0.689281 -0.327642   \n",
       "3  0.377436 -1.387024  ... -0.108300  0.005274 -0.190321 -1.175575  0.647376   \n",
       "4 -0.270533  0.817739  ... -0.009431  0.798278 -0.137458  0.141267 -0.206010   \n",
       "\n",
       "        V26       V27       V28  Amount  Class  \n",
       "0 -0.189115  0.133558 -0.021053  149.62      0  \n",
       "1  0.125895 -0.008983  0.014724    2.69      0  \n",
       "2 -0.139097 -0.055353 -0.059752  378.66      0  \n",
       "3 -0.221929  0.062723  0.061458  123.50      0  \n",
       "4  0.502292  0.219422  0.215153   69.99      0  \n",
       "\n",
       "[5 rows x 31 columns]"
      ]
     },
     "execution_count": 388,
     "metadata": {},
     "output_type": "execute_result"
    }
   ],
   "source": [
    "df = pd.read_csv('creditcard.csv')\n",
    "print('This data frame has {} rows and {} columns.'.format(df.shape[0], df.shape[1]))\n",
    "df.head()"
   ]
  },
  {
   "cell_type": "code",
   "execution_count": 389,
   "metadata": {},
   "outputs": [
    {
     "data": {
      "text/html": [
       "<div>\n",
       "<style scoped>\n",
       "    .dataframe tbody tr th:only-of-type {\n",
       "        vertical-align: middle;\n",
       "    }\n",
       "\n",
       "    .dataframe tbody tr th {\n",
       "        vertical-align: top;\n",
       "    }\n",
       "\n",
       "    .dataframe thead th {\n",
       "        text-align: right;\n",
       "    }\n",
       "</style>\n",
       "<table border=\"1\" class=\"dataframe\">\n",
       "  <thead>\n",
       "    <tr style=\"text-align: right;\">\n",
       "      <th></th>\n",
       "      <th>Time</th>\n",
       "      <th>V1</th>\n",
       "      <th>V2</th>\n",
       "      <th>V3</th>\n",
       "      <th>V4</th>\n",
       "      <th>V5</th>\n",
       "      <th>V6</th>\n",
       "      <th>V7</th>\n",
       "      <th>V8</th>\n",
       "      <th>V9</th>\n",
       "      <th>...</th>\n",
       "      <th>V21</th>\n",
       "      <th>V22</th>\n",
       "      <th>V23</th>\n",
       "      <th>V24</th>\n",
       "      <th>V25</th>\n",
       "      <th>V26</th>\n",
       "      <th>V27</th>\n",
       "      <th>V28</th>\n",
       "      <th>Amount</th>\n",
       "      <th>Class</th>\n",
       "    </tr>\n",
       "  </thead>\n",
       "  <tbody>\n",
       "    <tr>\n",
       "      <th>count</th>\n",
       "      <td>284807</td>\n",
       "      <td>284807</td>\n",
       "      <td>284807</td>\n",
       "      <td>284807</td>\n",
       "      <td>284807</td>\n",
       "      <td>284807</td>\n",
       "      <td>284807</td>\n",
       "      <td>284807</td>\n",
       "      <td>284807</td>\n",
       "      <td>284807</td>\n",
       "      <td>...</td>\n",
       "      <td>284807</td>\n",
       "      <td>284807</td>\n",
       "      <td>284807</td>\n",
       "      <td>284807</td>\n",
       "      <td>284807</td>\n",
       "      <td>284807</td>\n",
       "      <td>284807</td>\n",
       "      <td>284807</td>\n",
       "      <td>284807</td>\n",
       "      <td>284807</td>\n",
       "    </tr>\n",
       "    <tr>\n",
       "      <th>mean</th>\n",
       "      <td>94813</td>\n",
       "      <td>0</td>\n",
       "      <td>0</td>\n",
       "      <td>0</td>\n",
       "      <td>0</td>\n",
       "      <td>0</td>\n",
       "      <td>0</td>\n",
       "      <td>0</td>\n",
       "      <td>0</td>\n",
       "      <td>0</td>\n",
       "      <td>...</td>\n",
       "      <td>0</td>\n",
       "      <td>0</td>\n",
       "      <td>0</td>\n",
       "      <td>0</td>\n",
       "      <td>0</td>\n",
       "      <td>0</td>\n",
       "      <td>0</td>\n",
       "      <td>0</td>\n",
       "      <td>88</td>\n",
       "      <td>0</td>\n",
       "    </tr>\n",
       "    <tr>\n",
       "      <th>std</th>\n",
       "      <td>47488</td>\n",
       "      <td>1</td>\n",
       "      <td>1</td>\n",
       "      <td>1</td>\n",
       "      <td>1</td>\n",
       "      <td>1</td>\n",
       "      <td>1</td>\n",
       "      <td>1</td>\n",
       "      <td>1</td>\n",
       "      <td>1</td>\n",
       "      <td>...</td>\n",
       "      <td>0</td>\n",
       "      <td>0</td>\n",
       "      <td>0</td>\n",
       "      <td>0</td>\n",
       "      <td>0</td>\n",
       "      <td>0</td>\n",
       "      <td>0</td>\n",
       "      <td>0</td>\n",
       "      <td>250</td>\n",
       "      <td>0</td>\n",
       "    </tr>\n",
       "    <tr>\n",
       "      <th>min</th>\n",
       "      <td>0</td>\n",
       "      <td>-56</td>\n",
       "      <td>-72</td>\n",
       "      <td>-48</td>\n",
       "      <td>-5</td>\n",
       "      <td>-113</td>\n",
       "      <td>-26</td>\n",
       "      <td>-43</td>\n",
       "      <td>-73</td>\n",
       "      <td>-13</td>\n",
       "      <td>...</td>\n",
       "      <td>-34</td>\n",
       "      <td>-10</td>\n",
       "      <td>-44</td>\n",
       "      <td>-2</td>\n",
       "      <td>-10</td>\n",
       "      <td>-2</td>\n",
       "      <td>-22</td>\n",
       "      <td>-15</td>\n",
       "      <td>0</td>\n",
       "      <td>0</td>\n",
       "    </tr>\n",
       "    <tr>\n",
       "      <th>25%</th>\n",
       "      <td>54201</td>\n",
       "      <td>0</td>\n",
       "      <td>0</td>\n",
       "      <td>0</td>\n",
       "      <td>0</td>\n",
       "      <td>0</td>\n",
       "      <td>0</td>\n",
       "      <td>0</td>\n",
       "      <td>0</td>\n",
       "      <td>0</td>\n",
       "      <td>...</td>\n",
       "      <td>0</td>\n",
       "      <td>0</td>\n",
       "      <td>0</td>\n",
       "      <td>0</td>\n",
       "      <td>0</td>\n",
       "      <td>0</td>\n",
       "      <td>0</td>\n",
       "      <td>0</td>\n",
       "      <td>5</td>\n",
       "      <td>0</td>\n",
       "    </tr>\n",
       "    <tr>\n",
       "      <th>50%</th>\n",
       "      <td>84692</td>\n",
       "      <td>0</td>\n",
       "      <td>0</td>\n",
       "      <td>0</td>\n",
       "      <td>0</td>\n",
       "      <td>0</td>\n",
       "      <td>0</td>\n",
       "      <td>0</td>\n",
       "      <td>0</td>\n",
       "      <td>0</td>\n",
       "      <td>...</td>\n",
       "      <td>0</td>\n",
       "      <td>0</td>\n",
       "      <td>0</td>\n",
       "      <td>0</td>\n",
       "      <td>0</td>\n",
       "      <td>0</td>\n",
       "      <td>0</td>\n",
       "      <td>0</td>\n",
       "      <td>22</td>\n",
       "      <td>0</td>\n",
       "    </tr>\n",
       "    <tr>\n",
       "      <th>75%</th>\n",
       "      <td>139320</td>\n",
       "      <td>1</td>\n",
       "      <td>0</td>\n",
       "      <td>1</td>\n",
       "      <td>0</td>\n",
       "      <td>0</td>\n",
       "      <td>0</td>\n",
       "      <td>0</td>\n",
       "      <td>0</td>\n",
       "      <td>0</td>\n",
       "      <td>...</td>\n",
       "      <td>0</td>\n",
       "      <td>0</td>\n",
       "      <td>0</td>\n",
       "      <td>0</td>\n",
       "      <td>0</td>\n",
       "      <td>0</td>\n",
       "      <td>0</td>\n",
       "      <td>0</td>\n",
       "      <td>77</td>\n",
       "      <td>0</td>\n",
       "    </tr>\n",
       "    <tr>\n",
       "      <th>max</th>\n",
       "      <td>172792</td>\n",
       "      <td>2</td>\n",
       "      <td>22</td>\n",
       "      <td>9</td>\n",
       "      <td>16</td>\n",
       "      <td>34</td>\n",
       "      <td>73</td>\n",
       "      <td>120</td>\n",
       "      <td>20</td>\n",
       "      <td>15</td>\n",
       "      <td>...</td>\n",
       "      <td>27</td>\n",
       "      <td>10</td>\n",
       "      <td>22</td>\n",
       "      <td>4</td>\n",
       "      <td>7</td>\n",
       "      <td>3</td>\n",
       "      <td>31</td>\n",
       "      <td>33</td>\n",
       "      <td>25691</td>\n",
       "      <td>1</td>\n",
       "    </tr>\n",
       "  </tbody>\n",
       "</table>\n",
       "<p>8 rows × 31 columns</p>\n",
       "</div>"
      ],
      "text/plain": [
       "         Time      V1      V2      V3      V4      V5      V6      V7      V8  \\\n",
       "count  284807  284807  284807  284807  284807  284807  284807  284807  284807   \n",
       "mean    94813       0       0       0       0       0       0       0       0   \n",
       "std     47488       1       1       1       1       1       1       1       1   \n",
       "min         0     -56     -72     -48      -5    -113     -26     -43     -73   \n",
       "25%     54201       0       0       0       0       0       0       0       0   \n",
       "50%     84692       0       0       0       0       0       0       0       0   \n",
       "75%    139320       1       0       1       0       0       0       0       0   \n",
       "max    172792       2      22       9      16      34      73     120      20   \n",
       "\n",
       "           V9  ...     V21     V22     V23     V24     V25     V26     V27  \\\n",
       "count  284807  ...  284807  284807  284807  284807  284807  284807  284807   \n",
       "mean        0  ...       0       0       0       0       0       0       0   \n",
       "std         1  ...       0       0       0       0       0       0       0   \n",
       "min       -13  ...     -34     -10     -44      -2     -10      -2     -22   \n",
       "25%         0  ...       0       0       0       0       0       0       0   \n",
       "50%         0  ...       0       0       0       0       0       0       0   \n",
       "75%         0  ...       0       0       0       0       0       0       0   \n",
       "max        15  ...      27      10      22       4       7       3      31   \n",
       "\n",
       "          V28  Amount   Class  \n",
       "count  284807  284807  284807  \n",
       "mean        0      88       0  \n",
       "std         0     250       0  \n",
       "min       -15       0       0  \n",
       "25%         0       5       0  \n",
       "50%         0      22       0  \n",
       "75%         0      77       0  \n",
       "max        33   25691       1  \n",
       "\n",
       "[8 rows x 31 columns]"
      ]
     },
     "execution_count": 389,
     "metadata": {},
     "output_type": "execute_result"
    }
   ],
   "source": [
    "df.describe().astype(int)"
   ]
  },
  {
   "cell_type": "code",
   "execution_count": 390,
   "metadata": {},
   "outputs": [
    {
     "data": {
      "text/plain": [
       "Index(['Time', 'V1', 'V2', 'V3', 'V4', 'V5', 'V6', 'V7', 'V8', 'V9', 'V10',\n",
       "       'V11', 'V12', 'V13', 'V14', 'V15', 'V16', 'V17', 'V18', 'V19', 'V20',\n",
       "       'V21', 'V22', 'V23', 'V24', 'V25', 'V26', 'V27', 'V28', 'Amount',\n",
       "       'Class'],\n",
       "      dtype='object')"
      ]
     },
     "execution_count": 390,
     "metadata": {},
     "output_type": "execute_result"
    }
   ],
   "source": [
    "df.columns"
   ]
  },
  {
   "cell_type": "markdown",
   "metadata": {},
   "source": [
    "### Getting The Imbalance Percentage"
   ]
  },
  {
   "cell_type": "code",
   "execution_count": 391,
   "metadata": {},
   "outputs": [
    {
     "name": "stdout",
     "output_type": "stream",
     "text": [
      "No Frauds 99.83 % of the dataset\n",
      "Frauds 0.17 % of the dataset\n"
     ]
    }
   ],
   "source": [
    "counts = df.Class.value_counts()\n",
    "print('No Frauds', round(counts[0]/len(df) * 100,2), '% of the dataset')\n",
    "print('Frauds', round(counts[1]/len(df) * 100,2), '% of the dataset')"
   ]
  },
  {
   "cell_type": "markdown",
   "metadata": {},
   "source": [
    "### Plot Of Fraud VS Non-Fraud Transactions"
   ]
  },
  {
   "cell_type": "code",
   "execution_count": 392,
   "metadata": {},
   "outputs": [
    {
     "data": {
      "text/plain": [
       "Text(0.5, 1.0, 'Class Distributions \\n (0: No Fraud || 1: Fraud)')"
      ]
     },
     "execution_count": 392,
     "metadata": {},
     "output_type": "execute_result"
    },
    {
     "data": {
      "image/png": "[encoded data removed]",
      "text/plain": [
       "<Figure size 432x288 with 1 Axes>"
      ]
     },
     "metadata": {
      "needs_background": "light"
     },
     "output_type": "display_data"
    }
   ],
   "source": [
    "colors = [\"#0101DF\", \"#DF0101\"]\n",
    "sns.countplot('Class', data=df, palette=colors)\n",
    "plt.title('Class Distributions \\n (0: No Fraud || 1: Fraud)', fontsize=14)"
   ]
  },
  {
   "cell_type": "markdown",
   "metadata": {},
   "source": [
    "### Distribution Of Time & Amount"
   ]
  },
  {
   "cell_type": "code",
   "execution_count": 393,
   "metadata": {},
   "outputs": [
    {
     "data": {
      "image/png": "[encoded data removed]",
      "text/plain": [
       "<Figure size 1296x288 with 2 Axes>"
      ]
     },
     "metadata": {
      "needs_background": "light"
     },
     "output_type": "display_data"
    }
   ],
   "source": [
    "fig, ax = plt.subplots(1, 2, figsize=(18,4))\n",
    "\n",
    "amount_val = df['Amount'].values\n",
    "time_val = df['Time'].values\n",
    "\n",
    "sns.distplot(amount_val, ax=ax[0], color='r')\n",
    "ax[0].set_title('Distribution of Transaction Amount', fontsize=14)\n",
    "ax[0].set_xlim([min(amount_val), max(amount_val)])\n",
    "\n",
    "sns.distplot(time_val, ax=ax[1], color='b')\n",
    "ax[1].set_title('Distribution of Transaction Time', fontsize=14)\n",
    "ax[1].set_xlim([min(time_val), max(time_val)])\n",
    "\n",
    "plt.show()"
   ]
  },
  {
   "cell_type": "markdown",
   "metadata": {},
   "source": [
    "### Undersampling OF Dataset"
   ]
  },
  {
   "cell_type": "code",
   "execution_count": 394,
   "metadata": {},
   "outputs": [
    {
     "name": "stdout",
     "output_type": "stream",
     "text": [
      "            Time        V1        V2        V3        V4        V5        V6  \\\n",
      "103417   68645.0 -0.794647  0.848260  2.162399  1.693819  0.897304  1.547116   \n",
      "123284   76870.0 -1.500882 -0.109961  1.599557 -0.405910  5.190332 -4.265361   \n",
      "86505    61263.0 -0.387202  1.110434  1.321203 -0.057487  0.124265 -0.642407   \n",
      "153104   97901.0  1.754991 -0.590626  0.486189  1.739944 -0.808775  0.847122   \n",
      "282801  171161.0 -1.891860  1.078146 -0.040357 -0.476806  0.630234  0.372344   \n",
      "75522    56104.0 -0.633677  1.134030  2.187141  2.603697  0.010669  0.635021   \n",
      "272117  164920.0 -1.355230 -0.481827 -0.890575 -1.612763  3.950375  2.825231   \n",
      "107986   70704.0  1.208301  0.027405  0.157817  0.033400 -0.488490 -1.128058   \n",
      "262405  160461.0  1.998797 -0.539857 -0.662174  0.112607 -0.267294  0.438139   \n",
      "228237  145414.0  2.097432  0.107338 -2.075458  1.123544  0.898299 -0.363651   \n",
      "23630    32848.0  1.344227  0.518438 -0.522180  0.866076  0.586740 -0.600847   \n",
      "186965  127328.0  1.606239 -1.340511 -1.647572 -0.318179  1.432504  4.242979   \n",
      "216390  140455.0 -1.233496  0.870579  1.298980 -1.172913  0.639536  2.037812   \n",
      "83852    60057.0 -2.194296 -0.861112  0.598467  0.726990  0.278236  1.725923   \n",
      "249044  154217.0 -2.588910  1.274927  1.952075  0.273201 -1.801104  1.564822   \n",
      "45301    42284.0 -4.235572 -2.714708  1.716011  2.040072  1.957834 -1.057397   \n",
      "16561    27929.0 -0.945902 -0.420988  1.693412  1.679779 -1.137607  1.947085   \n",
      "169301  119626.0 -2.272523 -0.364420 -0.968992 -2.660721  3.171875  0.668055   \n",
      "107744   70592.0 -6.116551  5.390852 -2.043020  0.777824 -1.072957  3.349241   \n",
      "40056    40074.0 -2.496482 -0.677069  0.310756 -0.848653  2.257627  3.426995   \n",
      "27686    34660.0 -1.125841 -0.223703  0.518082 -1.168857  1.436571  4.242086   \n",
      "6407      7600.0 -0.334752  1.053302  2.025037  0.804451  0.064006 -0.457291   \n",
      "76411    56553.0 -1.776916 -1.051070  1.877961 -1.227255  0.716878 -0.051636   \n",
      "108884   71120.0  1.285445 -1.269931  0.956666 -0.649056 -0.891849  2.040068   \n",
      "262311  160411.0 -1.295027  0.527305 -0.221929 -0.122081  1.887848 -0.932252   \n",
      "73222    55037.0 -1.507241  0.415827  1.832929 -0.909878 -0.851005  0.020382   \n",
      "123765   77058.0 -3.707978  3.483681 -0.834096  0.903709 -1.535616 -0.412991   \n",
      "138623   82767.0  1.171396  0.289021  0.429689  1.380792 -0.056087 -0.157717   \n",
      "239985  150374.0 -0.557127  1.784080  1.625629  4.699045 -0.300710  2.539264   \n",
      "265365  161855.0 -0.927803 -0.429627  2.664290 -1.566012 -0.578086  0.395327   \n",
      "...          ...       ...       ...       ...       ...       ...       ...   \n",
      "74394    55559.0 -0.716028  1.183743  1.471799 -0.262849  0.198619 -0.103555   \n",
      "198088  132328.0 -2.147593  1.386370  0.441575 -0.402732 -1.308977  0.284669   \n",
      "112531   72690.0 -1.372418  0.932083  0.733001 -0.957969  1.820042  4.209733   \n",
      "195408  131036.0  1.609934 -0.979583 -1.269430  0.428604 -0.511495 -0.882374   \n",
      "171030  120462.0 -0.021779  1.106910 -0.321300  0.185306  0.612624 -1.148957   \n",
      "18519    29563.0  0.144550  0.819956 -0.777975  0.291408  2.059063  4.134989   \n",
      "281604  170298.0  0.203299  1.395907 -1.501516  1.111784 -0.137000 -0.406322   \n",
      "229729  146026.0  2.187887 -1.665807 -0.022859 -1.659040 -1.753848  0.256952   \n",
      "268081  163050.0 -1.042846  0.398355  1.821913 -2.677416 -0.562600  0.285843   \n",
      "180853  124724.0  2.050561 -0.876266 -1.183599 -0.516448 -0.967600 -1.044421   \n",
      "59628    48926.0 -4.146757 -4.473331  1.088712 -0.673243  1.438659 -1.748220   \n",
      "193279  130070.0 -0.254330 -0.205145  1.344455 -1.902942 -0.272568 -0.033678   \n",
      "147423   88532.0  2.074787  0.103351 -2.384803  0.154670  0.849615 -1.367852   \n",
      "32823    36979.0  0.231935 -2.101002  0.273682  0.968986 -1.583345  0.069183   \n",
      "99188    67009.0  1.138295 -0.636029  0.704887  0.116166 -0.913811  0.096391   \n",
      "209409  137546.0 -3.309530 -3.030357 -0.403419 -1.767371 -3.988848  1.831865   \n",
      "65609    51666.0  1.244825  0.092668  0.180420  0.017394 -0.463721 -1.133213   \n",
      "69561    53481.0 -0.725960  0.553779  2.251411  0.230253  0.229797  1.427827   \n",
      "140250   83619.0 -2.294325 -2.002485  1.070246 -1.477316 -2.009896  1.055849   \n",
      "268587  163290.0  2.303940 -1.346256 -1.725713 -1.784500 -0.586215 -0.517548   \n",
      "44534    41984.0 -1.731923 -0.740408 -1.146104 -0.449182 -1.089475  1.278578   \n",
      "71565    54343.0  1.043387 -0.666840  0.201007  0.607450 -0.491674  0.430976   \n",
      "84024    60130.0  1.331961 -0.655327 -0.584698 -0.849721 -0.277501 -0.449118   \n",
      "227049  144916.0 -0.032520  0.767491  0.298756 -0.779573  0.589816 -0.286275   \n",
      "218181  141202.0  2.065669 -0.837208 -1.715113 -0.801500 -0.314293 -1.137489   \n",
      "60907    49560.0  1.238561  0.103221  0.439993 -0.051067 -0.457881 -0.887312   \n",
      "279455  168877.0 -0.744931  0.792403 -0.258137  1.348803  1.042427 -0.584060   \n",
      "175227  122248.0  0.263777  0.636146  0.158521 -0.109291 -0.455655  0.626482   \n",
      "202938  134561.0  2.173985 -1.539386 -1.175535 -1.642826 -1.065364 -0.408151   \n",
      "28658    35100.0  0.455321 -1.280051  1.090248  1.760785 -1.315142  0.835787   \n",
      "\n",
      "              V7         V8        V9  ...       V21       V22       V23  \\\n",
      "103417  0.829030   0.370239 -1.225569  ... -0.048952 -0.095010  0.203324   \n",
      "123284 -5.207839  -1.799143  0.987598  ...  1.535770 -1.472732 -8.727518   \n",
      "86505   0.650322   0.045420 -0.729573  ... -0.205276 -0.537264 -0.028154   \n",
      "153104 -1.123597   0.266620  2.861280  ... -0.128148  0.183058  0.120259   \n",
      "282801 -1.598053  -4.851251  1.273658  ...  4.619419 -0.691886  0.199810   \n",
      "75522   0.270060   0.243059 -1.135555  ... -0.088422 -0.291904 -0.130032   \n",
      "272117  0.118158   0.817498 -0.356051  ...  0.326904  0.802449 -0.001006   \n",
      "107986  0.171775  -0.127552 -0.184397  ... -0.380263 -1.277866  0.218895   \n",
      "262405 -0.841501   0.251999  1.041779  ...  0.254123  0.846762  0.091264   \n",
      "228237  0.459382  -0.188405  0.473836  ... -0.023302  0.062450 -0.030057   \n",
      "23630   0.580766  -0.331397 -0.315620  ... -0.053898 -0.062724 -0.279891   \n",
      "186965 -1.125459   1.113155  1.635028  ... -0.122600 -0.508175  0.215612   \n",
      "216390 -0.433222   1.307717 -0.267337  ...  0.023655 -0.033302 -0.188228   \n",
      "83852   0.738315   0.959529 -1.210350  ...  0.483131  0.598610  0.558719   \n",
      "249044 -1.582401   1.314244  1.048056  ... -0.478899  0.188937 -0.333803   \n",
      "45301  -1.529050  -2.441969 -0.695208  ... -1.672470  0.454517  3.248107   \n",
      "16561   1.119864   0.416568  0.189472  ... -0.063239 -0.333444  0.770049   \n",
      "169301  1.340131   0.408324 -0.980296  ...  0.361596  1.232432 -0.131169   \n",
      "107744 -6.624199 -11.162664 -1.909902  ... -6.252310  1.767609  1.086709   \n",
      "40056  -1.043208   1.254441  0.570602  ... -0.086366  0.825306  0.964161   \n",
      "27686  -0.189119   0.849908 -1.185380  ... -0.304457 -0.277239 -0.486715   \n",
      "6407    0.814753  -0.423491  0.974135  ... -0.186291 -0.153382 -0.126109   \n",
      "76411   0.373519   0.115689  0.367313  ...  0.079838 -0.193133  0.301893   \n",
      "108884 -1.730726   0.602471  0.616718  ...  0.078927  0.638435 -0.322868   \n",
      "262311  1.742760  -0.448194 -0.827327  ...  0.022819  0.429764  0.292795   \n",
      "73222  -0.172525   0.697834  0.710478  ... -0.134000 -0.257751 -0.116195   \n",
      "123765 -1.082259   1.769874 -0.081982  ...  0.201376  0.201248  0.240691   \n",
      "138623  0.130972  -0.070314  0.142017  ... -0.092333  0.025934 -0.071094   \n",
      "239985 -1.978573  -3.822391 -1.361414  ... -0.224609 -1.364700  0.174296   \n",
      "265365 -0.296690   0.099220 -0.466370  ... -0.194237  0.063048 -0.115606   \n",
      "...          ...        ...       ...  ...       ...       ...       ...   \n",
      "74394   0.558112   0.188912 -0.580304  ... -0.170852 -0.329266 -0.007527   \n",
      "198088  0.110784   1.159283 -0.533570  ... -0.029142 -0.432806  0.014053   \n",
      "112531 -0.964285   0.835738 -0.009460  ...  0.732703 -0.515738 -0.215012   \n",
      "195408  0.272263  -0.273188  1.155906  ... -0.036926 -0.366309  0.025208   \n",
      "171030  1.037506  -0.320325 -0.167996  ...  0.348049  1.114664 -0.203618   \n",
      "18519  -1.445362  -1.777194 -0.862925  ... -1.215008  0.412052 -0.128976   \n",
      "281604 -0.198683   0.502532 -0.514988  ...  0.505128  1.386015  0.151458   \n",
      "229729 -1.945928   0.238615 -0.904385  ... -0.075736  0.238758  0.385890   \n",
      "268081 -0.296205  -0.162729  0.885718  ...  0.278229  1.325398 -0.244760   \n",
      "180853 -0.870433  -0.133253  0.193538  ...  0.250679  0.665565  0.051505   \n",
      "59628  -1.752452   0.804195 -1.071631  ...  0.857812  0.388426  0.109844   \n",
      "193279 -0.241093   0.094712 -0.634936  ...  0.481254  1.364336 -0.263957   \n",
      "147423  0.968587  -0.629532  0.202007  ...  0.166332  0.587269 -0.212462   \n",
      "32823  -0.084168  -0.037664 -0.729055  ...  0.097839 -0.422219 -0.417443   \n",
      "99188  -0.618182   0.121460  1.343081  ... -0.254300 -0.649406 -0.076766   \n",
      "209409  4.502206   0.238375  0.310114  ...  0.931520  0.213320  2.655916   \n",
      "65609   0.151396  -0.126566 -0.192605  ... -0.390911 -1.262259  0.234709   \n",
      "69561  -0.080723   0.603699  0.099675  ... -0.014035  0.048013 -0.393870   \n",
      "140250  0.738680   0.792103 -1.442942  ...  0.972925  1.341743  1.079939   \n",
      "268587 -0.762803  -0.318587 -1.553081  ...  0.064136  0.554804 -0.024830   \n",
      "44534   2.895523   0.287835 -0.719374  ...  0.418682  0.079365  1.315911   \n",
      "71565  -0.281046   0.085315 -1.074966  ... -0.362183 -0.602240 -0.135081   \n",
      "84024  -0.033823  -0.239402 -0.961841  ... -0.845609 -2.246309  0.040705   \n",
      "227049  0.458310  -0.204902  0.467579  ...  0.077281  0.498366 -0.299321   \n",
      "218181  0.029323  -0.383556 -0.893293  ...  0.320426  0.892392 -0.063292   \n",
      "60907   0.036926  -0.181701  0.046385  ... -0.173131 -0.417036  0.172304   \n",
      "279455  1.940445  -0.294656 -1.176131  ...  0.105987  0.050108 -0.020784   \n",
      "175227 -0.774630  -2.323554  0.373768  ...  2.073950 -1.295308  0.312396   \n",
      "202938 -0.994547  -0.151931 -1.517286  ... -0.050265  0.251549  0.068028   \n",
      "28658  -0.551644   0.414625  1.033842  ...  0.369346  0.703609 -0.386251   \n",
      "\n",
      "             V24       V25       V26       V27       V28   Amount  Class  \n",
      "103417 -0.711485 -0.527335 -0.207475 -0.045761 -0.119261    60.85      0  \n",
      "123284  0.915397 -2.603818  0.613612  0.655793  0.292784     2.00      0  \n",
      "86505   0.291202 -0.172941  0.052859  0.244239  0.089302     5.49      0  \n",
      "153104 -0.463836 -0.218907 -0.716356  0.066976 -0.030417    65.01      0  \n",
      "282801  0.569869 -1.076234  0.441753  0.558309 -0.012427    35.50      0  \n",
      "75522  -0.499014  0.080625  0.207342  0.326050  0.156832    49.95      0  \n",
      "272117  0.732896  0.537722 -0.087401 -0.043323  0.226737    22.16      0  \n",
      "107986  0.528246  0.001112  0.593591 -0.114818 -0.003499    24.99      0  \n",
      "262405  0.182356 -0.193054  0.629765 -0.034387 -0.059908     6.47      0  \n",
      "228237 -0.013859  0.520326 -0.474134 -0.029777 -0.066369     3.49      0  \n",
      "23630  -0.582643  1.009752 -0.236591 -0.005096  0.002622     3.73      0  \n",
      "186965  0.690829 -0.361010 -0.542036  0.043742 -0.008000   177.54      0  \n",
      "216390 -0.991988  0.107771  0.309053  0.171579  0.041003     1.50      0  \n",
      "83852  -0.968700  0.251115  0.828506 -0.143596 -0.146530   339.00      0  \n",
      "249044  0.595279  0.751052 -0.231797  0.125665 -0.367937    10.00      0  \n",
      "45301   0.460940  1.162256 -0.306953  0.549538 -0.266325     1.00      0  \n",
      "16561  -0.338314 -0.285681 -0.454838  0.118659  0.172094   359.00      0  \n",
      "169301 -1.014012  1.435253  1.297846 -0.441846 -0.401787    50.00      0  \n",
      "107744 -1.504244 -0.202124 -0.367943 -0.756644  0.155399     0.76      0  \n",
      "40056   1.048128  0.124472  0.465244  0.336287 -0.222088     8.88      0  \n",
      "27686   1.013188  0.560107 -0.187724  0.053578 -0.023873   166.00      0  \n",
      "6407    0.318768 -0.061583 -0.600666 -0.247939 -0.199057    36.00      0  \n",
      "76411  -0.915617  0.270456  0.931610 -0.049038 -0.083779   200.00      0  \n",
      "108884 -1.615419  0.649544  0.069254  0.100969  0.001374    30.70      0  \n",
      "262311  0.601477  0.422247 -0.743053  0.053630  0.045260    49.00      0  \n",
      "73222   0.131455 -0.185807  0.819245  0.094101 -0.010117    60.79      0  \n",
      "123765  0.051462 -0.072820 -0.395556 -0.909603 -0.059414     5.00      0  \n",
      "138623  0.121693  0.697690 -0.315787  0.046897  0.017626     5.34      0  \n",
      "239985  0.502786  0.984954  0.244764  0.161830  0.222221    15.13      0  \n",
      "265365  0.751141  0.249626  0.701727  0.102061 -0.072609    71.50      0  \n",
      "...          ...       ...       ...       ...       ...      ...    ...  \n",
      "74394   0.015127 -0.221205  0.085682  0.388584  0.169478     0.89      0  \n",
      "198088  0.656510  0.419649 -0.453332 -0.433413 -0.252104   153.39      0  \n",
      "112531  0.976263  0.619885 -0.468801  0.012278  0.002273     0.12      0  \n",
      "195408 -0.073106 -0.170499 -0.103001 -0.066787 -0.019712   226.35      0  \n",
      "171030 -0.086136 -0.606630 -0.070316  0.122653  0.249636    22.25      0  \n",
      "18519   1.008162  0.931519 -0.107483  0.127768  0.252604    10.00      0  \n",
      "281604  0.690614 -0.889520  0.090164 -0.354075 -0.069430     7.99      0  \n",
      "229729  0.667834 -0.596491 -0.303297  0.057270 -0.032583    16.61      0  \n",
      "268081  0.489803 -0.258979 -0.287538  0.138000 -0.033351     1.99      0  \n",
      "180853 -0.228408 -0.176833 -0.083402  0.013964 -0.005769    69.00      0  \n",
      "59628  -0.456197  0.495384 -0.168278 -0.075005 -0.622626   222.00      0  \n",
      "193279  0.632482 -0.077495 -0.027728  0.144929  0.156832    21.35      0  \n",
      "147423 -0.602960  0.690114 -0.382494 -0.039891 -0.066814    50.00      0  \n",
      "32823   0.035673  0.093435 -0.323742 -0.019784  0.125480   542.00      0  \n",
      "99188  -0.393369  0.203191  0.989424 -0.051395  0.016401    76.61      0  \n",
      "209409  0.472023  1.185621  0.621137 -0.631388  0.071162  1311.46      0  \n",
      "65609   0.529164  0.010376  0.595374 -0.110801 -0.006639     6.11      0  \n",
      "69561  -1.182117  0.347662 -0.287747  0.113499  0.058814    12.99      0  \n",
      "140250 -0.336155  0.166097 -0.186720 -0.190457 -0.036518   558.00      0  \n",
      "268587  0.111236  0.182649  0.078329 -0.022521 -0.051175    60.00      0  \n",
      "44534  -1.420874  0.136224  0.362424 -0.014513  0.192899   689.00      0  \n",
      "71565  -0.313806  0.540182 -0.321402  0.043522  0.027392   118.93      0  \n",
      "84024  -1.048215  0.130179  0.705462 -0.097834  0.009195    99.80      0  \n",
      "227049  0.395666 -0.272803  1.390356 -0.291885 -0.158396    19.99      0  \n",
      "218181  0.088903  0.291772 -0.024075 -0.068470 -0.074912    74.43      0  \n",
      "60907   0.479010  0.085276  0.853489 -0.064351  0.005716     1.00      0  \n",
      "279455  0.967646  1.287299 -0.244009 -0.102690 -0.005026   195.11      0  \n",
      "175227 -0.494705 -0.121465  0.021236  0.272519  0.182251    61.47      0  \n",
      "202938 -0.549142 -0.096181 -0.088398 -0.003885 -0.058322    73.00      0  \n",
      "28658   0.271999  0.409850 -0.143758  0.030196  0.070399   308.00      0  \n",
      "\n",
      "[284807 rows x 31 columns]\n"
     ]
    },
    {
     "data": {
      "text/plain": [
       "(984, 31)"
      ]
     },
     "execution_count": 394,
     "metadata": {},
     "output_type": "execute_result"
    }
   ],
   "source": [
    "df = df.sample(frac=1)\n",
    "print(df)\n",
    "\n",
    "fraud_df = df.loc[df['Class'] == 1]\n",
    "non_fraud_df = df.loc[df['Class'] == 0][:492]\n",
    "normal_distributed_df = pd.concat([fraud_df, non_fraud_df])\n",
    "\n",
    "# Shuffle dataframe rows\n",
    "new_df = normal_distributed_df.sample(frac=1, random_state=42)\n",
    "new_df.shape"
   ]
  },
  {
   "cell_type": "markdown",
   "metadata": {},
   "source": [
    "### Plot Of Equally Distributed Dataset"
   ]
  },
  {
   "cell_type": "code",
   "execution_count": 395,
   "metadata": {},
   "outputs": [
    {
     "name": "stdout",
     "output_type": "stream",
     "text": [
      "Distribution of the Classes in the subsample dataset\n",
      "1    0.5\n",
      "0    0.5\n",
      "Name: Class, dtype: float64\n"
     ]
    },
    {
     "data": {
      "image/png": "[encoded data removed]",
      "text/plain": [
       "<Figure size 432x288 with 1 Axes>"
      ]
     },
     "metadata": {
      "needs_background": "light"
     },
     "output_type": "display_data"
    }
   ],
   "source": [
    "print('Distribution of the Classes in the subsample dataset')\n",
    "print(new_df['Class'].value_counts()/len(new_df))\n",
    "sns.countplot('Class', data=new_df, palette=colors)\n",
    "plt.title('Equally Distributed Classes', fontsize=14)\n",
    "plt.show()"
   ]
  },
  {
   "cell_type": "markdown",
   "metadata": {},
   "source": [
    "### Extraction of Features and Classes"
   ]
  },
  {
   "cell_type": "code",
   "execution_count": 396,
   "metadata": {},
   "outputs": [],
   "source": [
    "X=new_df.iloc[:,:-1].values\n",
    "y=new_df.iloc[:,-1].values"
   ]
  },
  {
   "cell_type": "markdown",
   "metadata": {},
   "source": [
    "### Standardisation of Features"
   ]
  },
  {
   "cell_type": "code",
   "execution_count": 397,
   "metadata": {},
   "outputs": [
    {
     "data": {
      "text/plain": [
       "(array([[ 6.49096786e-01,  2.05516260e+00, -1.75109495e-01, ...,\n",
       "         -8.17464806e-02, -6.28155480e-02, -3.50940161e-01],\n",
       "        [ 1.11897320e+00, -1.17218292e+00,  1.66171287e+00, ...,\n",
       "          8.22713228e-01,  4.94375178e-01, -3.59926971e-01],\n",
       "        [-1.20693577e+00,  1.16263358e+00,  6.07941074e-02, ...,\n",
       "         -7.91030616e-02,  1.84987014e-02, -1.60761807e-02],\n",
       "        ...,\n",
       "        [ 8.15274613e-01, -3.05841691e+00, -2.50285737e+00, ...,\n",
       "          2.66860301e-01, -2.65474287e-01,  1.63486398e+00],\n",
       "        [-1.31082283e+00, -1.65986647e+01,  1.05417508e+01, ...,\n",
       "          1.70752055e+00,  5.11423169e-01, -1.59357618e-02],\n",
       "        [-1.31034591e+00, -1.72751912e+01,  1.08196654e+01, ...,\n",
       "          1.68406299e+00,  5.03739738e-01, -1.59357618e-02]]),\n",
       " array([0, 1, 0, 1, 1, 0, 0, 1, 0, 0, 1, 0, 0, 0, 1, 1, 1, 0, 0, 1, 1, 1,\n",
       "        0, 1, 0, 1, 1, 1, 1, 1, 1, 1, 1, 1, 0, 1, 1, 1, 1, 1, 1, 1, 0, 1,\n",
       "        0, 0, 0, 1, 1, 0, 0, 1, 0, 0, 0, 0, 0, 1, 0, 0, 1, 1, 1, 1, 1, 1,\n",
       "        0, 1, 1, 0, 1, 1, 1, 0, 0, 1, 0, 1, 0, 1, 0, 0, 0, 0, 1, 0, 1, 0,\n",
       "        0, 0, 1, 1, 0, 0, 0, 0, 0, 0, 0, 0, 0, 0, 1, 0, 0, 0, 1, 0, 0, 0,\n",
       "        0, 1, 0, 1, 0, 1, 1, 0, 1, 0, 1, 0, 1, 0, 0, 0, 0, 1, 1, 0, 0, 0,\n",
       "        1, 1, 0, 1, 1, 1, 0, 0, 0, 0, 0, 1, 0, 1, 1, 1, 1, 1, 1, 1, 1, 0,\n",
       "        1, 0, 0, 1, 0, 1, 1, 1, 1, 0, 0, 0, 0, 0, 1, 1, 0, 0, 1, 1, 1, 1,\n",
       "        1, 1, 0, 1, 0, 0, 1, 1, 1, 1, 1, 0, 0, 0, 0, 0, 1, 1, 0, 1, 0, 0,\n",
       "        0, 1, 0, 0, 1, 0, 1, 0, 1, 1, 0, 1, 1, 0, 0, 1, 0, 0, 1, 1, 1, 0,\n",
       "        0, 1, 1, 1, 0, 1, 0, 0, 1, 1, 1, 1, 1, 1, 0, 1, 1, 1, 0, 0, 1, 1,\n",
       "        0, 1, 0, 0, 0, 0, 1, 0, 1, 1, 1, 0, 0, 0, 1, 0, 1, 1, 1, 0, 0, 1,\n",
       "        0, 1, 0, 1, 0, 1, 1, 1, 0, 0, 0, 1, 0, 0, 0, 1, 0, 1, 1, 0, 1, 1,\n",
       "        1, 0, 1, 0, 1, 0, 0, 1, 0, 0, 1, 0, 0, 0, 1, 0, 1, 0, 0, 1, 1, 1,\n",
       "        1, 0, 0, 1, 0, 0, 1, 0, 1, 0, 1, 1, 1, 0, 0, 1, 0, 0, 1, 1, 1, 0,\n",
       "        0, 0, 1, 0, 1, 1, 0, 1, 1, 1, 1, 0, 1, 1, 1, 0, 1, 0, 1, 1, 0, 1,\n",
       "        0, 0, 1, 0, 1, 1, 1, 0, 0, 1, 0, 0, 1, 1, 0, 1, 1, 1, 1, 1, 0, 0,\n",
       "        1, 1, 0, 1, 0, 1, 1, 1, 0, 0, 1, 1, 0, 0, 0, 0, 1, 1, 0, 0, 0, 0,\n",
       "        1, 0, 0, 1, 0, 1, 1, 0, 1, 0, 0, 1, 1, 1, 1, 1, 1, 1, 1, 0, 1, 1,\n",
       "        1, 1, 0, 0, 1, 0, 0, 0, 0, 0, 0, 1, 0, 0, 0, 0, 0, 1, 1, 0, 0, 0,\n",
       "        1, 1, 1, 1, 0, 0, 1, 1, 1, 1, 0, 1, 1, 0, 1, 1, 0, 0, 0, 0, 0, 0,\n",
       "        1, 1, 1, 0, 1, 1, 1, 1, 1, 0, 0, 0, 1, 1, 1, 1, 1, 0, 0, 0, 1, 1,\n",
       "        0, 0, 0, 0, 1, 0, 1, 0, 1, 0, 1, 1, 0, 0, 1, 0, 0, 0, 0, 1, 1, 1,\n",
       "        1, 0, 1, 0, 1, 1, 1, 1, 0, 0, 1, 1, 0, 0, 1, 0, 1, 0, 1, 0, 1, 0,\n",
       "        1, 1, 1, 0, 1, 1, 1, 1, 1, 1, 0, 0, 0, 0, 1, 1, 1, 0, 1, 0, 0, 1,\n",
       "        1, 1, 1, 1, 0, 0, 0, 1, 1, 0, 1, 1, 0, 1, 1, 0, 1, 1, 0, 1, 1, 1,\n",
       "        0, 1, 1, 0, 0, 0, 1, 0, 0, 1, 1, 1, 0, 0, 0, 0, 1, 1, 0, 0, 0, 1,\n",
       "        1, 1, 1, 0, 0, 1, 1, 0, 1, 1, 0, 0, 0, 0, 0, 0, 0, 1, 0, 1, 0, 1,\n",
       "        1, 0, 1, 0, 0, 0, 0, 1, 1, 0, 0, 1, 1, 0, 1, 0, 1, 1, 1, 0, 1, 1,\n",
       "        0, 0, 0, 0, 1, 0, 0, 0, 0, 0, 0, 0, 1, 0, 1, 0, 0, 0, 1, 1, 0, 1,\n",
       "        1, 1, 0, 0, 0, 1, 1, 1, 1, 0, 1, 0, 0, 0, 1, 0, 1, 1, 0, 1, 1, 0,\n",
       "        0, 0, 0, 0, 1, 0, 1, 1, 1, 0, 0, 0, 0, 0, 1, 1, 1, 0, 0, 0, 0, 1,\n",
       "        1, 1, 1, 1, 0, 0, 1, 0, 1, 0, 1, 1, 1, 1, 1, 1, 1, 1, 1, 0, 0, 0,\n",
       "        0, 1, 0, 1, 0, 0, 0, 1, 0, 0, 0, 0, 0, 0, 0, 0, 1, 0, 0, 1, 0, 1,\n",
       "        0, 1, 0, 1, 0, 0, 0, 1, 0, 0, 1, 0, 0, 1, 0, 1, 0, 0, 1, 1, 0, 0,\n",
       "        0, 1, 1, 1, 1, 0, 0, 1, 1, 0, 0, 0, 0, 0, 0, 0, 0, 0, 0, 0, 0, 1,\n",
       "        1, 0, 1, 0, 1, 0, 1, 0, 0, 0, 0, 0, 0, 1, 0, 1, 0, 0, 0, 1, 0, 0,\n",
       "        1, 1, 0, 1, 0, 0, 1, 1, 0, 0, 0, 0, 0, 0, 0, 0, 1, 0, 0, 0, 1, 0,\n",
       "        1, 1, 0, 1, 1, 1, 0, 1, 1, 0, 1, 1, 1, 0, 1, 0, 0, 1, 1, 1, 0, 1,\n",
       "        0, 0, 0, 0, 1, 0, 1, 1, 1, 0, 1, 1, 0, 1, 0, 1, 1, 0, 0, 0, 1, 0,\n",
       "        1, 0, 1, 1, 0, 0, 0, 1, 1, 1, 0, 0, 1, 0, 1, 0, 0, 1, 0, 1, 1, 0,\n",
       "        0, 0, 1, 1, 1, 0, 0, 1, 1, 1, 1, 1, 0, 0, 1, 0, 1, 1, 1, 0, 1, 1,\n",
       "        1, 0, 0, 0, 0, 1, 0, 0, 0, 1, 0, 0, 0, 0, 1, 0, 0, 1, 0, 0, 1, 1,\n",
       "        0, 0, 0, 1, 1, 1, 1, 1, 1, 1, 1, 0, 1, 1, 1, 0, 1, 0, 1, 0, 0, 1,\n",
       "        1, 1, 1, 1, 1, 1, 1, 0, 1, 0, 1, 1, 1, 0, 1, 1], dtype=int64))"
      ]
     },
     "execution_count": 397,
     "metadata": {},
     "output_type": "execute_result"
    }
   ],
   "source": [
    "std=StandardScaler()\n",
    "X[:,[0,29]]=std.fit_transform(X[:,[0,29]])\n",
    "X,y"
   ]
  },
  {
   "cell_type": "markdown",
   "metadata": {},
   "source": [
    "### Splitting into Train and Test Set"
   ]
  },
  {
   "cell_type": "code",
   "execution_count": 398,
   "metadata": {},
   "outputs": [],
   "source": [
    "X_train,X_test,y_train,y_test=train_test_split(X,y,test_size=0.25)"
   ]
  },
  {
   "cell_type": "markdown",
   "metadata": {},
   "source": [
    "### Determining Optimal Number Of Neighbours In KNN MODEL"
   ]
  },
  {
   "cell_type": "code",
   "execution_count": 399,
   "metadata": {},
   "outputs": [
    {
     "name": "stderr",
     "output_type": "stream",
     "text": [
      "C:\\Users\\DELL\\Anaconda3\\lib\\site-packages\\sklearn\\model_selection\\_split.py:1978: FutureWarning: The default value of cv will change from 3 to 5 in version 0.22. Specify it explicitly to silence this warning.\n",
      "  warnings.warn(CV_WARNING, FutureWarning)\n",
      "C:\\Users\\DELL\\Anaconda3\\lib\\site-packages\\sklearn\\model_selection\\_split.py:1978: FutureWarning: The default value of cv will change from 3 to 5 in version 0.22. Specify it explicitly to silence this warning.\n",
      "  warnings.warn(CV_WARNING, FutureWarning)\n",
      "C:\\Users\\DELL\\Anaconda3\\lib\\site-packages\\sklearn\\model_selection\\_split.py:1978: FutureWarning: The default value of cv will change from 3 to 5 in version 0.22. Specify it explicitly to silence this warning.\n",
      "  warnings.warn(CV_WARNING, FutureWarning)\n"
     ]
    },
    {
     "name": "stdout",
     "output_type": "stream",
     "text": [
      "K =  1\n",
      "Scores : \n",
      "[0.94331984 0.91869919 0.92653061]\n",
      "Mean Score =  0.9295165457644826\n",
      "\n",
      "K =  3\n",
      "Scores : \n",
      "[0.951417   0.93089431 0.93061224]\n",
      "Mean Score =  0.9376411859632104\n",
      "\n",
      "K =  5\n",
      "Scores : \n",
      "[0.951417   0.93089431 0.91836735]\n",
      "Mean Score =  0.9335595533101494\n",
      "\n"
     ]
    },
    {
     "name": "stderr",
     "output_type": "stream",
     "text": [
      "C:\\Users\\DELL\\Anaconda3\\lib\\site-packages\\sklearn\\model_selection\\_split.py:1978: FutureWarning: The default value of cv will change from 3 to 5 in version 0.22. Specify it explicitly to silence this warning.\n",
      "  warnings.warn(CV_WARNING, FutureWarning)\n",
      "C:\\Users\\DELL\\Anaconda3\\lib\\site-packages\\sklearn\\model_selection\\_split.py:1978: FutureWarning: The default value of cv will change from 3 to 5 in version 0.22. Specify it explicitly to silence this warning.\n",
      "  warnings.warn(CV_WARNING, FutureWarning)\n",
      "C:\\Users\\DELL\\Anaconda3\\lib\\site-packages\\sklearn\\model_selection\\_split.py:1978: FutureWarning: The default value of cv will change from 3 to 5 in version 0.22. Specify it explicitly to silence this warning.\n",
      "  warnings.warn(CV_WARNING, FutureWarning)\n"
     ]
    },
    {
     "name": "stdout",
     "output_type": "stream",
     "text": [
      "K =  7\n",
      "Scores : \n",
      "[0.951417   0.92682927 0.93469388]\n",
      "Mean Score =  0.9376467166307622\n",
      "\n",
      "K =  9\n",
      "Scores : \n",
      "[0.95546559 0.92276423 0.93469388]\n",
      "Mean Score =  0.9376412307459437\n",
      "\n",
      "K =  11\n",
      "Scores : \n",
      "[0.94736842 0.92276423 0.93469388]\n",
      "Mean Score =  0.9349421754153094\n",
      "\n",
      "K =  13\n",
      "Scores : \n",
      "[0.951417   0.92276423 0.93061224]\n",
      "Mean Score =  0.9349311588629395\n",
      "\n",
      "K =  15\n",
      "Scores : \n",
      "[0.95546559 0.91869919 0.92653061]\n",
      "Mean Score =  0.9335651287604341\n",
      "\n"
     ]
    },
    {
     "name": "stderr",
     "output_type": "stream",
     "text": [
      "C:\\Users\\DELL\\Anaconda3\\lib\\site-packages\\sklearn\\model_selection\\_split.py:1978: FutureWarning: The default value of cv will change from 3 to 5 in version 0.22. Specify it explicitly to silence this warning.\n",
      "  warnings.warn(CV_WARNING, FutureWarning)\n",
      "C:\\Users\\DELL\\Anaconda3\\lib\\site-packages\\sklearn\\model_selection\\_split.py:1978: FutureWarning: The default value of cv will change from 3 to 5 in version 0.22. Specify it explicitly to silence this warning.\n",
      "  warnings.warn(CV_WARNING, FutureWarning)\n",
      "C:\\Users\\DELL\\Anaconda3\\lib\\site-packages\\sklearn\\model_selection\\_split.py:1978: FutureWarning: The default value of cv will change from 3 to 5 in version 0.22. Specify it explicitly to silence this warning.\n",
      "  warnings.warn(CV_WARNING, FutureWarning)\n"
     ]
    },
    {
     "name": "stdout",
     "output_type": "stream",
     "text": [
      "K =  17\n",
      "Scores : \n",
      "[0.951417   0.91869919 0.92653061]\n",
      "Mean Score =  0.932215601095117\n",
      "\n",
      "K =  19\n",
      "Scores : \n",
      "[0.94736842 0.92276423 0.92653061]\n",
      "Mean Score =  0.9322210869799353\n",
      "\n",
      "K = "
     ]
    },
    {
     "name": "stderr",
     "output_type": "stream",
     "text": [
      "C:\\Users\\DELL\\Anaconda3\\lib\\site-packages\\sklearn\\model_selection\\_split.py:1978: FutureWarning: The default value of cv will change from 3 to 5 in version 0.22. Specify it explicitly to silence this warning.\n",
      "  warnings.warn(CV_WARNING, FutureWarning)\n",
      "C:\\Users\\DELL\\Anaconda3\\lib\\site-packages\\sklearn\\model_selection\\_split.py:1978: FutureWarning: The default value of cv will change from 3 to 5 in version 0.22. Specify it explicitly to silence this warning.\n",
      "  warnings.warn(CV_WARNING, FutureWarning)\n"
     ]
    },
    {
     "name": "stdout",
     "output_type": "stream",
     "text": [
      " 21\n",
      "Scores : \n",
      "[0.951417   0.92276423 0.92653061]\n",
      "Mean Score =  0.9335706146452525\n",
      "\n",
      "K =  23\n",
      "Scores : \n",
      "[0.951417   0.92276423 0.92653061]\n",
      "Mean Score =  0.9335706146452525\n",
      "\n",
      "K =  25\n",
      "Scores : \n"
     ]
    },
    {
     "name": "stderr",
     "output_type": "stream",
     "text": [
      "C:\\Users\\DELL\\Anaconda3\\lib\\site-packages\\sklearn\\model_selection\\_split.py:1978: FutureWarning: The default value of cv will change from 3 to 5 in version 0.22. Specify it explicitly to silence this warning.\n",
      "  warnings.warn(CV_WARNING, FutureWarning)\n",
      "C:\\Users\\DELL\\Anaconda3\\lib\\site-packages\\sklearn\\model_selection\\_split.py:1978: FutureWarning: The default value of cv will change from 3 to 5 in version 0.22. Specify it explicitly to silence this warning.\n",
      "  warnings.warn(CV_WARNING, FutureWarning)\n"
     ]
    },
    {
     "name": "stdout",
     "output_type": "stream",
     "text": [
      "[0.94736842 0.91869919 0.92653061]\n",
      "Mean Score =  0.9308660734297999\n",
      "\n",
      "K =  27\n",
      "Scores : \n",
      "[0.951417   0.91463415 0.92653061]\n",
      "Mean Score =  0.9308605875449815\n",
      "\n",
      "K =  29\n",
      "Scores : \n",
      "[0.94736842 0.91463415 0.92653061]\n",
      "Mean Score =  0.9295110598796642\n",
      "\n"
     ]
    },
    {
     "name": "stderr",
     "output_type": "stream",
     "text": [
      "C:\\Users\\DELL\\Anaconda3\\lib\\site-packages\\sklearn\\model_selection\\_split.py:1978: FutureWarning: The default value of cv will change from 3 to 5 in version 0.22. Specify it explicitly to silence this warning.\n",
      "  warnings.warn(CV_WARNING, FutureWarning)\n",
      "C:\\Users\\DELL\\Anaconda3\\lib\\site-packages\\sklearn\\model_selection\\_split.py:1978: FutureWarning: The default value of cv will change from 3 to 5 in version 0.22. Specify it explicitly to silence this warning.\n",
      "  warnings.warn(CV_WARNING, FutureWarning)\n",
      "C:\\Users\\DELL\\Anaconda3\\lib\\site-packages\\sklearn\\model_selection\\_split.py:1978: FutureWarning: The default value of cv will change from 3 to 5 in version 0.22. Specify it explicitly to silence this warning.\n",
      "  warnings.warn(CV_WARNING, FutureWarning)\n"
     ]
    },
    {
     "name": "stdout",
     "output_type": "stream",
     "text": [
      "K =  31\n",
      "Scores : \n",
      "[0.94736842 0.91463415 0.92653061]\n",
      "Mean Score =  0.9295110598796642\n",
      "\n",
      "K =  33\n",
      "Scores : \n",
      "[0.94736842 0.91056911 0.93061224]\n",
      "Mean Score =  0.9295165905472159\n",
      "\n",
      "K =  35\n",
      "Scores : "
     ]
    },
    {
     "name": "stderr",
     "output_type": "stream",
     "text": [
      "C:\\Users\\DELL\\Anaconda3\\lib\\site-packages\\sklearn\\model_selection\\_split.py:1978: FutureWarning: The default value of cv will change from 3 to 5 in version 0.22. Specify it explicitly to silence this warning.\n",
      "  warnings.warn(CV_WARNING, FutureWarning)\n",
      "C:\\Users\\DELL\\Anaconda3\\lib\\site-packages\\sklearn\\model_selection\\_split.py:1978: FutureWarning: The default value of cv will change from 3 to 5 in version 0.22. Specify it explicitly to silence this warning.\n",
      "  warnings.warn(CV_WARNING, FutureWarning)\n"
     ]
    },
    {
     "name": "stdout",
     "output_type": "stream",
     "text": [
      "\n",
      "[0.94736842 0.90650407 0.93061224]\n",
      "Mean Score =  0.9281615769970805\n",
      "\n",
      "K =  37\n",
      "Scores : \n",
      "[0.94736842 0.91056911 0.93061224]\n",
      "Mean Score =  0.9295165905472159\n",
      "\n",
      "K =  39\n",
      "Scores : \n",
      "[0.94736842 0.90650407 0.93061224]\n",
      "Mean Score =  0.9281615769970805\n",
      "\n"
     ]
    },
    {
     "name": "stderr",
     "output_type": "stream",
     "text": [
      "C:\\Users\\DELL\\Anaconda3\\lib\\site-packages\\sklearn\\model_selection\\_split.py:1978: FutureWarning: The default value of cv will change from 3 to 5 in version 0.22. Specify it explicitly to silence this warning.\n",
      "  warnings.warn(CV_WARNING, FutureWarning)\n",
      "C:\\Users\\DELL\\Anaconda3\\lib\\site-packages\\sklearn\\model_selection\\_split.py:1978: FutureWarning: The default value of cv will change from 3 to 5 in version 0.22. Specify it explicitly to silence this warning.\n",
      "  warnings.warn(CV_WARNING, FutureWarning)\n",
      "C:\\Users\\DELL\\Anaconda3\\lib\\site-packages\\sklearn\\model_selection\\_split.py:1978: FutureWarning: The default value of cv will change from 3 to 5 in version 0.22. Specify it explicitly to silence this warning.\n",
      "  warnings.warn(CV_WARNING, FutureWarning)\n",
      "C:\\Users\\DELL\\Anaconda3\\lib\\site-packages\\sklearn\\model_selection\\_split.py:1978: FutureWarning: The default value of cv will change from 3 to 5 in version 0.22. Specify it explicitly to silence this warning.\n",
      "  warnings.warn(CV_WARNING, FutureWarning)\n"
     ]
    },
    {
     "name": "stdout",
     "output_type": "stream",
     "text": [
      "K =  41\n",
      "Scores : \n",
      "[0.94736842 0.91056911 0.93061224]\n",
      "Mean Score =  0.9295165905472159\n",
      "\n",
      "K =  43\n",
      "Scores : \n",
      "[0.94331984 0.91056911 0.93061224]\n",
      "Mean Score =  0.9281670628818987\n",
      "\n"
     ]
    },
    {
     "name": "stderr",
     "output_type": "stream",
     "text": [
      "C:\\Users\\DELL\\Anaconda3\\lib\\site-packages\\sklearn\\model_selection\\_split.py:1978: FutureWarning: The default value of cv will change from 3 to 5 in version 0.22. Specify it explicitly to silence this warning.\n",
      "  warnings.warn(CV_WARNING, FutureWarning)\n",
      "C:\\Users\\DELL\\Anaconda3\\lib\\site-packages\\sklearn\\model_selection\\_split.py:1978: FutureWarning: The default value of cv will change from 3 to 5 in version 0.22. Specify it explicitly to silence this warning.\n",
      "  warnings.warn(CV_WARNING, FutureWarning)\n",
      "C:\\Users\\DELL\\Anaconda3\\lib\\site-packages\\sklearn\\model_selection\\_split.py:1978: FutureWarning: The default value of cv will change from 3 to 5 in version 0.22. Specify it explicitly to silence this warning.\n",
      "  warnings.warn(CV_WARNING, FutureWarning)\n"
     ]
    },
    {
     "name": "stdout",
     "output_type": "stream",
     "text": [
      "K =  45\n",
      "Scores : \n",
      "[0.94331984 0.8902439  0.93061224]\n",
      "Mean Score =  0.9213919951312213\n",
      "\n",
      "K =  47\n",
      "Scores : \n",
      "[0.93522267 0.8902439  0.93061224]\n",
      "Mean Score =  0.9186929398005871\n",
      "\n",
      "K =  49\n",
      "Scores : \n",
      "[0.93522267 0.8902439  0.92653061]\n",
      "Mean Score =  0.9173323955828999\n",
      "\n"
     ]
    }
   ],
   "source": [
    "from sklearn.model_selection import cross_val_score\n",
    "x_axis = []\n",
    "k_scores = []\n",
    "for k in range(1,50, 2):\n",
    "    x_axis.append(k)\n",
    "    clf = KNeighborsClassifier(n_neighbors=k)\n",
    "    scores = cross_val_score(clf, X_train, y_train,  scoring='accuracy')\n",
    "    k_scores.append(scores.mean())\n",
    "    \n",
    "    #Printing values\n",
    "    print(\"K = \",k)\n",
    "    print(\"Scores : \")\n",
    "    print(scores)\n",
    "    print(\"Mean Score = \",scores.mean())\n",
    "    print()"
   ]
  },
  {
   "cell_type": "code",
   "execution_count": 400,
   "metadata": {},
   "outputs": [
    {
     "data": {
      "image/png": "[encoded data removed]",
      "text/plain": [
       "<Figure size 432x288 with 1 Axes>"
      ]
     },
     "metadata": {
      "needs_background": "light"
     },
     "output_type": "display_data"
    },
    {
     "data": {
      "text/plain": [
       "7"
      ]
     },
     "execution_count": 400,
     "metadata": {},
     "output_type": "execute_result"
    }
   ],
   "source": [
    "plt.plot(x_axis, k_scores)\n",
    "plt.show()\n",
    "optimal_k = x_axis[k_scores.index(max(k_scores))]\n",
    "optimal_k"
   ]
  },
  {
   "cell_type": "markdown",
   "metadata": {},
   "source": [
    "### Creating and Fitting the various Classifier Objects For Different Classification Algorithms"
   ]
  },
  {
   "cell_type": "code",
   "execution_count": 401,
   "metadata": {},
   "outputs": [],
   "source": [
    "rfc = RandomForestClassifier(n_estimators=100,random_state=0).fit(X_train, y_train)\n",
    "\n",
    "dtc=DecisionTreeClassifier(criterion='entropy',random_state=0).fit(X_train, y_train)\n",
    "\n",
    "knn=KNeighborsClassifier(n_neighbors=7,metric='minkowski',p=2).fit(X_train, y_train)\n",
    "\n",
    "nb=GaussianNB().fit(X_train, y_train)\n",
    "\n",
    "svc=SVC(kernel='linear',random_state=0).fit(X_train, y_train)"
   ]
  },
  {
   "cell_type": "markdown",
   "metadata": {},
   "source": [
    "### Finally Test The Model"
   ]
  },
  {
   "cell_type": "code",
   "execution_count": 402,
   "metadata": {},
   "outputs": [],
   "source": [
    "y_pred1 = rfc.predict(X_test)\n",
    "y_pred2 = dtc.predict(X_test)\n",
    "y_pred3 = knn.predict(X_test)\n",
    "y_pred4 = nb.predict(X_test)\n",
    "y_pred5 = svc.predict(X_test)"
   ]
  },
  {
   "cell_type": "markdown",
   "metadata": {},
   "source": [
    "### Comparing Different Models Via Confusion Matrix"
   ]
  },
  {
   "cell_type": "code",
   "execution_count": 403,
   "metadata": {},
   "outputs": [
    {
     "name": "stdout",
     "output_type": "stream",
     "text": [
      "Random Forest\t\t [[120   4]\n",
      " [ 16 106]]\n",
      "Decision Tree\t\t [[110  14]\n",
      " [ 14 108]]\n",
      "K Nearest Neighbours\t [[119   5]\n",
      " [ 20 102]]\n",
      "Naive Bayes\t\t [[120   4]\n",
      " [ 20 102]]\n",
      "Support Vector Machine\t [[118   6]\n",
      " [ 16 106]]\n"
     ]
    }
   ],
   "source": [
    "cm1=confusion_matrix(y_test,y_pred1)\n",
    "cm2=confusion_matrix(y_test,y_pred2)\n",
    "cm3=confusion_matrix(y_test,y_pred3)\n",
    "cm4=confusion_matrix(y_test,y_pred4)\n",
    "cm5=confusion_matrix(y_test,y_pred5)\n",
    "\n",
    "print(\"Random Forest\\t\\t\",cm1)\n",
    "print(\"Decision Tree\\t\\t\",cm2)\n",
    "print(\"K Nearest Neighbours\\t\",cm3)\n",
    "print(\"Naive Bayes\\t\\t\",cm4)\n",
    "print(\"Support Vector Machine\\t\",cm5)"
   ]
  },
  {
   "cell_type": "markdown",
   "metadata": {},
   "source": [
    "### Comparing different Models Via Accuracy Score"
   ]
  },
  {
   "cell_type": "code",
   "execution_count": 404,
   "metadata": {},
   "outputs": [
    {
     "name": "stdout",
     "output_type": "stream",
     "text": [
      "Random Forest\t\t 0.9186991869918699\n",
      "Decision Tree\t\t 0.8861788617886179\n",
      "K Nearest Neighbours\t 0.8983739837398373\n",
      "Naive Bayes\t\t 0.9024390243902439\n",
      "Support Vector Machine\t 0.9105691056910569\n"
     ]
    }
   ],
   "source": [
    "print(\"Random Forest\\t\\t\",accuracy_score(y_test,y_pred1))\n",
    "print(\"Decision Tree\\t\\t\",accuracy_score(y_test,y_pred2))\n",
    "print(\"K Nearest Neighbours\\t\",accuracy_score(y_test,y_pred3))\n",
    "print(\"Naive Bayes\\t\\t\",accuracy_score(y_test,y_pred4))\n",
    "print(\"Support Vector Machine\\t\",accuracy_score(y_test,y_pred5))"
   ]
  },
  {
   "cell_type": "markdown",
   "metadata": {},
   "source": [
    "# RESULT:\n",
    "\n",
    "### Random Forest Algorithm and SVM has the maximum Accuracy Score among other classsification algorithms and hence best fits for the Credit Card Fraud Detection Algorithm."
   ]
  },
  {
   "cell_type": "markdown",
   "metadata": {},
   "source": [
    "\n",
    "\n",
    "\n",
    "\n",
    "\n",
    "\n",
    "\n",
    "\n",
    "# ThankYou!!"
   ]
  },
  {
   "cell_type": "code",
   "execution_count": null,
   "metadata": {},
   "outputs": [],
   "source": []
  }
 ],
 "metadata": {
  "kernelspec": {
   "display_name": "Python 3",
   "language": "python",
   "name": "python3"
  },
  "language_info": {
   "codemirror_mode": {
    "name": "ipython",
    "version": 3
   },
   "file_extension": ".py",
   "mimetype": "text/x-python",
   "name": "python",
   "nbconvert_exporter": "python",
   "pygments_lexer": "ipython3",
   "version": "3.7.3"
  }
 },
 "nbformat": 4,
 "nbformat_minor": 2
}
